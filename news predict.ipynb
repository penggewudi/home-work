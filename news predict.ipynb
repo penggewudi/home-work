{
 "cells": [
  {
   "cell_type": "code",
   "execution_count": 84,
   "metadata": {},
   "outputs": [
    {
     "name": "stdout",
     "output_type": "stream",
     "text": [
      "cuda\n"
     ]
    }
   ],
   "source": [
    "from io import open\n",
    "import unicodedata\n",
    "import string\n",
    "import re\n",
    "import random\n",
    "import os\n",
    "import numpy as np\n",
    "\n",
    "import torch\n",
    "import torch.nn as nn\n",
    "from torch import optim\n",
    "import torch.nn.functional as F\n",
    "\n",
    "device = torch.device(\"cuda\" if torch.cuda.is_available() else \"cpu\")\n",
    "#device=\"cpu\"\n",
    "print(device)"
   ]
  },
  {
   "cell_type": "code",
   "execution_count": 2,
   "metadata": {},
   "outputs": [],
   "source": [
    "class Lang:\n",
    "    def __init__(self, name = 'news'):\n",
    "        self.name = name\n",
    "        self.word2index = {\"NNNN\": 0}\n",
    "        self.word2count = {\"NNNN\": 0}\n",
    "        self.index2word = {0: \"NNNN\"}\n",
    "        self.n_words = 1  #NNNN\n",
    "\n",
    "    def addSentence(self, sentence):\n",
    "        for word in sentence.split(' '):\n",
    "            self.addWord(word)\n",
    "\n",
    "    def addWord(self, word):\n",
    "        if word not in self.word2index:\n",
    "            self.word2index[word] = self.n_words\n",
    "            self.word2count[word] = 1\n",
    "            self.index2word[self.n_words] = word\n",
    "            self.n_words += 1\n",
    "        else:\n",
    "            self.word2count[word] += 1"
   ]
  },
  {
   "cell_type": "code",
   "execution_count": 3,
   "metadata": {},
   "outputs": [],
   "source": [
    "MIN_LEN = 5\n",
    "MAX_LEN = 30\n",
    "\n",
    "def filterSeq(s):\n",
    "    return len(s.split(' ')) < MAX_LEN and len(s.split(' ')) > MIN_LEN\n",
    "\n",
    "def standardizeSeq(s):\n",
    "    return s + \" NNNN\" * (MAX_LEN - len(s.split(' ')))\n",
    "\n",
    "def filterS(ss):\n",
    "    return [standardizeSeq(s) for s in ss if filterSeq(s)]"
   ]
  },
  {
   "cell_type": "code",
   "execution_count": 4,
   "metadata": {},
   "outputs": [],
   "source": [
    "def readLangs(name):\n",
    "    print(\"Reading lines...\")\n",
    "\n",
    "    # Read the file and split into lines\n",
    "    lines = open('%s.txt' % (name)).read().strip().split('\\n')\n",
    "    \n",
    "    lines = [(' ').join(s) for s in lines]\n",
    "    # Split every line into pairs and normalize\n",
    "    #pairs = [[normalizeString(s) for s in l.split('\\t')] for l in lines]\n",
    "    return lines"
   ]
  },
  {
   "cell_type": "code",
   "execution_count": 5,
   "metadata": {
    "scrolled": false
   },
   "outputs": [
    {
     "name": "stdout",
     "output_type": "stream",
     "text": [
      "Reading lines...\n",
      "Reading lines...\n",
      "Read 12597 sentence\n",
      "Trimmed to 11925 sentence pairs\n",
      "Counting words...\n",
      "Counted words:\n",
      "2259\n",
      "('新 凤 鸣 拟 万 美 元 设 立 中 益 化 纤 NNNN NNNN NNNN NNNN NNNN NNNN NNNN NNNN NNNN NNNN NNNN NNNN NNNN NNNN NNNN NNNN NNNN', 1)\n"
     ]
    }
   ],
   "source": [
    "def prepareData():\n",
    "    fm_lang = readLangs('fmxw1')\n",
    "    zm_lang = readLangs('zmxw1')\n",
    "    print(\"Read %s sentence\" % (len(zm_lang)+len(fm_lang)))\n",
    "    zm_lang = filterS(zm_lang)\n",
    "    fm_lang = filterS(fm_lang)\n",
    "    print(\"Trimmed to %s sentence pairs\" % (len(zm_lang)+len(fm_lang)))\n",
    "    print(\"Counting words...\")\n",
    "    lang = Lang()\n",
    "    pairs = []\n",
    "    for s in zm_lang:\n",
    "        lang.addSentence(s)\n",
    "        pairs.append((s,1))\n",
    "    for s in fm_lang:\n",
    "        lang.addSentence(s)\n",
    "        pairs.append((s,0))\n",
    "    print(\"Counted words:\")\n",
    "    print(lang.n_words)\n",
    "    return lang, pairs\n",
    "\n",
    "lang, pairs = prepareData()\n",
    "random.shuffle(pairs)\n",
    "print(random.choice(pairs))"
   ]
  },
  {
   "cell_type": "code",
   "execution_count": 6,
   "metadata": {},
   "outputs": [],
   "source": [
    "def indexesFromSentence(lang, sentence):\n",
    "    return [lang.word2index[word] for word in sentence.split(' ')]\n",
    "\n",
    "def tensorFromSentence(lang, sentence):\n",
    "    indexes = indexesFromSentence(lang, sentence)\n",
    "    return torch.tensor(indexes, dtype=torch.long, device=device).view(-1)#这里把它变成了一个向量\n",
    "\n",
    "def tensorsFromPairs(pairs):\n",
    "    input_list = [indexesFromSentence(lang,pair[0]) for pair in pairs]\n",
    "    input_tensor = torch.tensor(input_list, dtype=torch.long, device=device)\n",
    "    label_list = [pair[1] for pair in pairs]\n",
    "    label_tensor = torch.tensor(label_list, dtype=torch.long, device=device)\n",
    "    return input_tensor, label_tensor"
   ]
  },
  {
   "cell_type": "code",
   "execution_count": 7,
   "metadata": {},
   "outputs": [],
   "source": [
    "class PositionEncoding(nn.Module):\n",
    "    def __init__(self, max_len, word_size):\n",
    "        super(PositionEncoding, self).__init__()\n",
    "        self.position_mat = torch.tensor([[pos/np.power(10000,i//2*2/word_size) for i in range(word_size)] for pos in range(max_len)], \\\n",
    "                                        dtype = torch.float32).to(device)\n",
    "        self.position_mat[:,0::2] = torch.sin(self.position_mat[:,0::2])\n",
    "        self.position_mat[:,1::2] = torch.cos(self.position_mat[:,1::2])\n",
    "    \n",
    "    def forward(self, input):\n",
    "        return input + self.position_mat[0:input.size(-2),0:input.size(-1)]"
   ]
  },
  {
   "cell_type": "code",
   "execution_count": 22,
   "metadata": {},
   "outputs": [],
   "source": [
    "class Newsmodel(nn.Module):\n",
    "    def __init__(self, word_size, embed_size, ff_dim = 512, num_layers = 3, nhead = 2, max_len = MAX_LEN):\n",
    "        super(Newsmodel, self).__init__()\n",
    "        \n",
    "        self.word_size = word_size\n",
    "        self.embed_size = embed_size \n",
    "        self.ff_dim = ff_dim\n",
    "        self.num_layers = num_layers\n",
    "        self.nhead = nhead\n",
    "        self.max_len = max_len\n",
    "        \n",
    "        self.embedding = nn.Embedding(word_size, embed_size, padding_idx = 0)\n",
    "        self.position_encoding = PositionEncoding(max_len, embed_size)\n",
    "        self.transformer_encoder = nn.TransformerEncoder( nn.TransformerEncoderLayer(embed_size, nhead, dim_feedforward=ff_dim) , num_layers)\n",
    "        #self.out_linear = nn.Linear(embed_size *  max_len, 2)\n",
    "        self.out_linear = nn.Linear(embed_size,2)\n",
    "        self.dropout = nn.Dropout(p=0.2)\n",
    "        \n",
    "    def forward(self, input):\n",
    "        X = self.position_encoding(self.embedding(input)) #batch * max_len * embed_size\n",
    "        X = self.transformer_encoder(X) #batch * max_len * embed_size\n",
    "        #output = self.out_linear(X.view(-1, self.embed_size * self.max_len))\n",
    "        output = self.out_linear(X.sum(dim=1))\n",
    "        return F.log_softmax(self.dropout(output),dim=-1)"
   ]
  },
  {
   "cell_type": "code",
   "execution_count": 23,
   "metadata": {},
   "outputs": [
    {
     "name": "stdout",
     "output_type": "stream",
     "text": [
      "tensor([[-22.4909,   0.0000]], device='cuda:0', grad_fn=<LogSoftmaxBackward>)\n"
     ]
    }
   ],
   "source": [
    "model1 = Newsmodel(5, 4, 32).to(device)\n",
    "input1 = torch.tensor([[1]*30], dtype = torch.long, device = device)\n",
    "print(model1(input1))"
   ]
  },
  {
   "cell_type": "code",
   "execution_count": 24,
   "metadata": {},
   "outputs": [],
   "source": [
    "import time\n",
    "import math\n",
    "\n",
    "def asMinutes(s):\n",
    "    m = math.floor(s / 60)\n",
    "    s -= m * 60\n",
    "    return '%dm %ds' % (m,s)\n",
    "\n",
    "def timeSince(since, percent):\n",
    "    now = time.time()\n",
    "    s = now - since\n",
    "    es = s / (percent)\n",
    "    rs = es - s\n",
    "    return '%s (- %s)' % (asMinutes(s), asMinutes(rs))"
   ]
  },
  {
   "cell_type": "code",
   "execution_count": 25,
   "metadata": {},
   "outputs": [],
   "source": [
    "def train(model, input_tensor, target_tensor, optimizer, criterion):\n",
    "\n",
    "    #清空梯度\n",
    "    optimizer.zero_grad()\n",
    "    \n",
    "    target_length = target_tensor.size(0)\n",
    "    \n",
    "    \n",
    "    outputs = model(input_tensor)\n",
    "    \n",
    "    loss = criterion(outputs, target_tensor)\n",
    "    \n",
    "    loss.backward()\n",
    "    \n",
    "    optimizer.step()\n",
    "    \n",
    "    return loss.item()*100"
   ]
  },
  {
   "cell_type": "code",
   "execution_count": 26,
   "metadata": {},
   "outputs": [],
   "source": [
    "#这里才是总的训练\n",
    "def trainIters(model, pairs, n_iters, batch_size = 100, print_every=1000, plot_every=100, learning_rate=0.0001):\n",
    "    model.train()\n",
    "    assert n_iters % batch_size == 0\n",
    "    assert print_every % batch_size == 0\n",
    "    assert plot_every % batch_size == 0\n",
    "    start = time.time()\n",
    "    plot_losses = []\n",
    "    print_loss_total = 0\n",
    "    plot_loss_total = 0\n",
    "    \n",
    "    optimizer = optim.SGD(model.parameters(), lr=learning_rate, momentum=0.9)\n",
    "    train_input, train_label = tensorsFromPairs([random.choice(pairs) for i in range(n_iters)])\n",
    "    criterion = nn.NLLLoss()\n",
    "    \n",
    "    for iter in range(batch_size, n_iters+1, batch_size):\n",
    "        input_tensor = train_input[iter - batch_size : iter-1]\n",
    "        target_tensor = train_label[iter - batch_size : iter-1]\n",
    "        \n",
    "        loss = train(model, input_tensor, target_tensor, optimizer, criterion)\n",
    "        print_loss_total += loss\n",
    "        plot_loss_total += loss\n",
    "        \n",
    "        if iter % print_every == 0:\n",
    "            print_loss_avg = print_loss_total / print_every\n",
    "            print_loss_total = 0\n",
    "            print('%s (%d %d%%) %.4f' % (timeSince(start, iter / n_iters), iter, iter / n_iters * 100, print_loss_avg))\n",
    "        \n",
    "        if iter % plot_every == 0:\n",
    "            plot_loss_avg = plot_loss_total / plot_every\n",
    "            plot_losses.append(plot_loss_avg)\n",
    "            plot_loss_total = 0\n",
    "    \n",
    "    showPlot(plot_losses)"
   ]
  },
  {
   "cell_type": "code",
   "execution_count": 80,
   "metadata": {},
   "outputs": [],
   "source": [
    "def sentenceFromIndexes(sentence):\n",
    "    return [lang.index2word[word] for word in sentence if word is not 0]\n",
    "\n",
    "def predict(model, pairs):\n",
    "    model.eval()\n",
    "    train_input, train_label = tensorsFromPairs([random.choice(pairs) for i in range(100)])\n",
    "    #train_input, train_label = tensorsFromPairs(pairs)\n",
    "    _,outputs = model(train_input).max(dim = 1)\n",
    "    correct = float(outputs.eq(train_label).sum().item())\n",
    "    for i in range(10):\n",
    "        input_a = train_input[i].to('cpu').detach().numpy().tolist()\n",
    "        print(\">>>\",''.join(sentenceFromIndexes(input_a)),outputs[i].to('cpu').detach().numpy(),train_label[i].to('cpu').detach().numpy())\n",
    "    print(correct)\n",
    "    return correct"
   ]
  },
  {
   "cell_type": "code",
   "execution_count": 28,
   "metadata": {},
   "outputs": [],
   "source": [
    "import matplotlib.pyplot as plt\n",
    "plt.switch_backend('agg')\n",
    "import matplotlib.ticker as ticker\n",
    "\n",
    "def showPlot(points):\n",
    "    plt.figure()\n",
    "    fig, ax = plt.subplots()\n",
    "    loc = ticker.MultipleLocator(base=0.2)\n",
    "    ax.yaxis.set_major_locator(loc)\n",
    "    plt.plot(points)"
   ]
  },
  {
   "cell_type": "code",
   "execution_count": 29,
   "metadata": {},
   "outputs": [
    {
     "name": "stdout",
     "output_type": "stream",
     "text": [
      "cuda\n",
      "0m 6s (- 2m 9s) (10000 5%) 2.8570\n",
      "0m 12s (- 1m 53s) (20000 10%) 0.6878\n",
      "0m 18s (- 1m 43s) (30000 15%) 0.5680\n",
      "0m 23s (- 1m 35s) (40000 20%) 0.5406\n",
      "0m 29s (- 1m 28s) (50000 25%) 0.4321\n",
      "0m 35s (- 1m 22s) (60000 30%) 0.4214\n",
      "0m 41s (- 1m 16s) (70000 35%) 0.4305\n",
      "0m 46s (- 1m 10s) (80000 40%) 0.3900\n",
      "0m 52s (- 1m 4s) (90000 45%) 0.3816\n",
      "0m 58s (- 0m 58s) (100000 50%) 0.3628\n",
      "1m 4s (- 0m 52s) (110000 55%) 0.3756\n",
      "1m 10s (- 0m 46s) (120000 60%) 0.3483\n",
      "1m 16s (- 0m 40s) (130000 65%) 0.3605\n",
      "1m 21s (- 0m 35s) (140000 70%) 0.3215\n",
      "1m 27s (- 0m 29s) (150000 75%) 0.3135\n",
      "1m 33s (- 0m 23s) (160000 80%) 0.3153\n",
      "1m 39s (- 0m 17s) (170000 85%) 0.3374\n",
      "1m 45s (- 0m 11s) (180000 90%) 0.3009\n",
      "1m 51s (- 0m 5s) (190000 95%) 0.3236\n",
      "1m 57s (- 0m 0s) (200000 100%) 0.3059\n"
     ]
    },
    {
     "data": {
      "text/plain": [
       "<Figure size 432x288 with 0 Axes>"
      ]
     },
     "metadata": {},
     "output_type": "display_data"
    },
    {
     "data": {
      "image/png": "[encoded data removed]",
      "text/plain": [
       "<Figure size 432x288 with 1 Axes>"
      ]
     },
     "metadata": {},
     "output_type": "display_data"
    }
   ],
   "source": [
    "print(device)\n",
    "model = Newsmodel(lang.n_words, 256, num_layers = 6).to(device)\n",
    "\n",
    "trainIters(model, pairs[0:-1000], 200000, print_every=10000, plot_every=1000)"
   ]
  },
  {
   "cell_type": "code",
   "execution_count": 32,
   "metadata": {},
   "outputs": [
    {
     "name": "stdout",
     "output_type": "stream",
     "text": [
      "0m 6s (- 2m 12s) (10000 5%) 0.2971\n",
      "0m 12s (- 1m 55s) (20000 10%) 0.2881\n",
      "0m 18s (- 1m 45s) (30000 15%) 0.2884\n",
      "0m 24s (- 1m 37s) (40000 20%) 0.2903\n",
      "0m 30s (- 1m 30s) (50000 25%) 0.2931\n",
      "0m 36s (- 1m 24s) (60000 30%) 0.2733\n",
      "0m 42s (- 1m 18s) (70000 35%) 0.2779\n",
      "0m 47s (- 1m 11s) (80000 40%) 0.2670\n",
      "0m 53s (- 1m 5s) (90000 45%) 0.2778\n",
      "0m 59s (- 0m 59s) (100000 50%) 0.2762\n",
      "1m 5s (- 0m 53s) (110000 55%) 0.2696\n",
      "1m 11s (- 0m 47s) (120000 60%) 0.2590\n",
      "1m 17s (- 0m 41s) (130000 65%) 0.2731\n",
      "1m 23s (- 0m 35s) (140000 70%) 0.2604\n",
      "1m 29s (- 0m 29s) (150000 75%) 0.2702\n",
      "1m 34s (- 0m 23s) (160000 80%) 0.2776\n",
      "1m 40s (- 0m 17s) (170000 85%) 0.2661\n",
      "1m 46s (- 0m 11s) (180000 90%) 0.2673\n",
      "1m 52s (- 0m 5s) (190000 95%) 0.2584\n",
      "1m 57s (- 0m 0s) (200000 100%) 0.2576\n"
     ]
    },
    {
     "data": {
      "text/plain": [
       "<Figure size 432x288 with 0 Axes>"
      ]
     },
     "metadata": {},
     "output_type": "display_data"
    },
    {
     "data": {
      "image/png": "[encoded data removed]",
      "text/plain": [
       "<Figure size 432x288 with 1 Axes>"
      ]
     },
     "metadata": {},
     "output_type": "display_data"
    }
   ],
   "source": [
    "trainIters(model, pairs[0:-1000], 200000, print_every=10000, plot_every=1000, learning_rate=0.00005)"
   ]
  },
  {
   "cell_type": "code",
   "execution_count": 33,
   "metadata": {},
   "outputs": [
    {
     "name": "stdout",
     "output_type": "stream",
     "text": [
      "0m 6s (- 2m 12s) (10000 5%) 0.2533\n",
      "0m 12s (- 1m 55s) (20000 10%) 0.2584\n",
      "0m 18s (- 1m 45s) (30000 15%) 0.2511\n",
      "0m 24s (- 1m 37s) (40000 20%) 0.2552\n",
      "0m 30s (- 1m 30s) (50000 25%) 0.2492\n",
      "0m 35s (- 1m 23s) (60000 30%) 0.2501\n",
      "0m 41s (- 1m 16s) (70000 35%) 0.2466\n",
      "0m 47s (- 1m 10s) (80000 40%) 0.2599\n",
      "0m 52s (- 1m 4s) (90000 45%) 0.2516\n",
      "0m 58s (- 0m 58s) (100000 50%) 0.2566\n",
      "1m 4s (- 0m 52s) (110000 55%) 0.2463\n",
      "1m 10s (- 0m 46s) (120000 60%) 0.2590\n",
      "1m 15s (- 0m 40s) (130000 65%) 0.2556\n",
      "1m 21s (- 0m 34s) (140000 70%) 0.2566\n",
      "1m 27s (- 0m 29s) (150000 75%) 0.2535\n",
      "1m 32s (- 0m 23s) (160000 80%) 0.2340\n",
      "1m 38s (- 0m 17s) (170000 85%) 0.2482\n",
      "1m 44s (- 0m 11s) (180000 90%) 0.2462\n",
      "1m 50s (- 0m 5s) (190000 95%) 0.2479\n",
      "1m 55s (- 0m 0s) (200000 100%) 0.2396\n"
     ]
    },
    {
     "data": {
      "text/plain": [
       "<Figure size 432x288 with 0 Axes>"
      ]
     },
     "metadata": {},
     "output_type": "display_data"
    },
    {
     "data": {
      "image/png": "[encoded data removed]",
      "text/plain": [
       "<Figure size 432x288 with 1 Axes>"
      ]
     },
     "metadata": {},
     "output_type": "display_data"
    }
   ],
   "source": [
    "trainIters(model, pairs[0:-1000], 200000, print_every=10000, plot_every=1000, learning_rate=0.00002)"
   ]
  },
  {
   "cell_type": "code",
   "execution_count": 81,
   "metadata": {},
   "outputs": [
    {
     "name": "stdout",
     "output_type": "stream",
     "text": [
      ">>> 江山欧派拟万元参设股权投资基金基金规模不超亿元 1 1\n",
      ">>> 春风动力股东拟减持不超股份 0 0\n",
      ">>> 博实股份控股股东计划转让不超过公司的股份 0 1\n",
      ">>> 启迪桑德中标宜昌和监利共个项目 1 1\n",
      ">>> 龙建股份中标亿元项目 1 1\n",
      ">>> 宏达新材将现金收购上海观峰信息科技有限公司股权 1 1\n",
      ">>> 大唐发电股东拟减持不超股份 0 0\n",
      ">>> 海利生物两股东计划清仓式减持 0 0\n",
      ">>> 大连电瓷子公司预中标万元合同 1 1\n",
      ">>> 三安光电非公开发行股股票申请获得中国证监会审核通过 1 1\n",
      "93.0\n"
     ]
    },
    {
     "data": {
      "text/plain": [
       "93.0"
      ]
     },
     "execution_count": 81,
     "metadata": {},
     "output_type": "execute_result"
    }
   ],
   "source": [
    "predict(model,pairs[-1000:])"
   ]
  },
  {
   "cell_type": "markdown",
   "metadata": {},
   "source": [
    "保存模型的方法就是调用`torch.save(model.state_dict(),'./modelpth')`其中，model是目前训练出来的模型的名字，modelpth是文件名，无需后缀名的，载入的时候首先实例化一个模型，然后`model.load_state_dict(torch.load('modelpth'))`就可以了，其中model是新实例化的模型的名称，这种方式是把模型的参数保存下来，然后到时候再把参数载入回去。"
   ]
  },
  {
   "cell_type": "code",
   "execution_count": 91,
   "metadata": {},
   "outputs": [],
   "source": [
    "torch.save(model.state_dict(), './modelpth')"
   ]
  },
  {
   "cell_type": "code",
   "execution_count": 88,
   "metadata": {},
   "outputs": [],
   "source": [
    "model1 = Newsmodel(lang.n_words, 256, num_layers = 6).to(device)"
   ]
  },
  {
   "cell_type": "code",
   "execution_count": 92,
   "metadata": {},
   "outputs": [
    {
     "data": {
      "text/plain": [
       "<All keys matched successfully>"
      ]
     },
     "execution_count": 92,
     "metadata": {},
     "output_type": "execute_result"
    }
   ],
   "source": [
    "model1.load_state_dict(torch.load('modelpth'))"
   ]
  },
  {
   "cell_type": "code",
   "execution_count": 90,
   "metadata": {},
   "outputs": [
    {
     "name": "stdout",
     "output_type": "stream",
     "text": [
      ">>> 鲁信创投子公司参股企业山东国信已过港交所聆讯 1 1\n",
      ">>> 瑞特股份拟万元参设合资公司研发电源系统等 1 1\n",
      ">>> 盛通股份拟回购万元亿元股份 1 1\n",
      ">>> 华贸物流拟择机出售万股贵阳银行 1 1\n",
      ">>> 渝农商行重庆小米消费金融公司开业 1 1\n",
      ">>> 鸿特科技公告公司实控人将变更 1 1\n",
      ">>> 长信科技上半年业绩预增 1 1\n",
      ">>> 中水渔业收到政府补助万元 1 1\n",
      ">>> 南京证券发行不超过亿元公司债获证监会核准 1 1\n",
      ">>> 哈工智能拟收购易科机器人股权 1 1\n",
      "96.0\n"
     ]
    },
    {
     "data": {
      "text/plain": [
       "96.0"
      ]
     },
     "execution_count": 90,
     "metadata": {},
     "output_type": "execute_result"
    }
   ],
   "source": [
    "predict(model1,pairs[-1000:])"
   ]
  }
 ],
 "metadata": {
  "kernelspec": {
   "display_name": "Python 3",
   "language": "python",
   "name": "python3"
  },
  "language_info": {
   "codemirror_mode": {
    "name": "ipython",
    "version": 3
   },
   "file_extension": ".py",
   "mimetype": "text/x-python",
   "name": "python",
   "nbconvert_exporter": "python",
   "pygments_lexer": "ipython3",
   "version": "3.6.5"
  }
 },
 "nbformat": 4,
 "nbformat_minor": 2
}
